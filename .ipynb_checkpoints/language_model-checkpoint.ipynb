{
 "cells": [
  {
   "cell_type": "code",
   "execution_count": 737,
   "metadata": {},
   "outputs": [],
   "source": [
    "import string\n",
    "import nltk\n",
    "import random\n",
    "import collections\n",
    "from collections import Counter\n",
    "file = open('_poetry_khairil_anwar.txt')\n",
    "poem_khairil = file.read()\n",
    "poem_khairil = poem_khairil.lower()\n",
    "\n",
    "file =open('_poetry_test.txt')\n",
    "test_data = file.read()\n",
    "test_data = test_data.lower()\n"
   ]
  },
  {
   "cell_type": "code",
   "execution_count": 738,
   "metadata": {},
   "outputs": [],
   "source": [
    "#remove punctuation and to lower case\n",
    "def cleanText(text):\n",
    "    result = []\n",
    "    text = nltk.word_tokenize(text)\n",
    "    for line in text:\n",
    "        line.lower()\n",
    "        for s in string.punctuation:\n",
    "            line = line.replace(s, \"\")\n",
    "        if(line !=\"\"):\n",
    "            result.append(line)\n",
    "    return result"
   ]
  },
  {
   "cell_type": "code",
   "execution_count": 739,
   "metadata": {},
   "outputs": [],
   "source": [
    "def unigram(tokens):\n",
    "    model = {}\n",
    "    #set smua ke 0.1\n",
    "    for t in tokens:\n",
    "        model[t] =0\n",
    "    \n",
    "    for t in tokens:\n",
    "        model[t] +=1\n",
    "        \n",
    "    size = len(model)\n",
    "    model[\"<s>\"] = 0.01\n",
    "    model[\"</s>\"] = 0.01\n",
    "    \n",
    "    return model, size\n",
    "\n",
    "def bigram(tokens):\n",
    "    model ={}\n",
    "    count = 0\n",
    "    tokens.insert(0,\"<s>\")\n",
    "    tokens.append(\"</s>\")\n",
    "    length = len(tokens)\n",
    "    \n",
    "#     number of occurence\n",
    "    for i in range(1, length-1):\n",
    "        #if first word is already in dictionary\n",
    "        if(tokens[i] in model):\n",
    "            #if second word is defined in first word's dictionary, then add 1\n",
    "            if(tokens[i+1] in model[tokens[i]]):\n",
    "                model[tokens[i]][tokens[i+1]] +=1\n",
    "            #if second word is not defined yet in first word's dictionary, then initialize it as 1\n",
    "            else:\n",
    "                model[tokens[i]][tokens[i+1]] =1\n",
    "                count +=1\n",
    "        #if first word is not in dictionary, add 1\n",
    "        else:\n",
    "            model[tokens[i]] = {}\n",
    "            model[tokens[i]][tokens[i+1]] = 1\n",
    "            count +=1            \n",
    "    return model\n",
    "# model yg dimakusd adalah model bigram\n",
    "def biprobability(model, unigram):\n",
    "    prob = {}\n",
    "    for m in model:\n",
    "        for d in model[m]:\n",
    "            s= m+\"|\"+d\n",
    "            prob[s]=model[m].get(d)/unigram[0][d] *(1.0)\n",
    "#             print(s,\" adalah \" ,prob[s])\n",
    "#             print(\"model per : \", model[m].get(d))\n",
    "#             print(\"unigram :\",unigram[0][d])\n",
    "    \n",
    "    for m in model:\n",
    "        for d in model[m]:\n",
    "            s= m+\"|\"+d\n",
    "            prob[s]+=1\n",
    "    return prob\n",
    "\n",
    "# def count_perplexity(prob):\n",
    "#     perplexity =1\n",
    "#     n=0\n",
    "    \n",
    "#     #count all probability in the dictionary\n",
    "#     for p in prob:\n",
    "#         perplexity = perplexity*(1/prob[p])\n",
    "#         n+=1\n",
    "        \n",
    "#     #do root\n",
    "#     return pow(perplexity, 1/float(n))\n",
    "\n",
    "def perplex_value(test, unigram_model):\n",
    "    perplexity =1\n",
    "    n=0\n",
    "    \n",
    "    for word in test:\n",
    "        if(word not in unigram_model):\n",
    "            unigram_model[word] =0.01 #this line is handling non exist keyword\n",
    "        perplexity = perplexity*(1/unigram_model[word])\n",
    "        n+=1\n",
    "    return pow(perplexity, 1/float(n))\n",
    "    \n",
    "            \n",
    "\n",
    "    \n",
    "        "
   ]
  },
  {
   "cell_type": "code",
   "execution_count": 740,
   "metadata": {
    "scrolled": true
   },
   "outputs": [
    {
     "name": "stdout",
     "output_type": "stream",
     "text": [
      "Perplexity :  5.404802309797816\n"
     ]
    }
   ],
   "source": [
    "text = cleanText(poem_khairil)\n",
    "unigram = unigram(text)\n",
    "test = cleanText(test_data)\n",
    "# print(unigram)\n",
    "\n",
    "\n",
    "# the code below will print the whole bigram model\n",
    "bigram = bigram(text)\n",
    "# print(bigram)\n",
    "prob = biprobability(bigram, unigram)\n",
    "perplexity = perplex_value(test, unigram[0])\n",
    "print(\"Perplexity : \", perplexity)"
   ]
  },
  {
   "cell_type": "code",
   "execution_count": 741,
   "metadata": {},
   "outputs": [
    {
     "name": "stdout",
     "output_type": "stream",
     "text": [
      "{'dalam': 15, 'kami': 19, 'dan': 30, 'di': 35, 'tidak': 16, 'ku': 11, 'aku': 26, 'beta': 12, 'yang': 24, 'lagi': 15}\n"
     ]
    }
   ],
   "source": [
    "# the code below will print top 10 bigram\n",
    "print(dict(Counter(unigram[0]).most_common(10)))"
   ]
  },
  {
   "cell_type": "code",
   "execution_count": 742,
   "metadata": {},
   "outputs": [],
   "source": [
    "#poem generation"
   ]
  },
  {
   "cell_type": "code",
   "execution_count": 749,
   "metadata": {},
   "outputs": [],
   "source": [
    "def generatePoem(model):\n",
    "    list_model = list(model.keys())\n",
    "    #random 1 word as starting word\n",
    "    word = random.choice(list_model)\n",
    "    \n",
    "    #this loop generate words\n",
    "    for i in range(0,20):\n",
    "        print(word)\n",
    "        #get a list of second words available from the first word's dictionary\n",
    "        list_kata = list(model[word].keys())\n",
    "        max=0\n",
    "        key = None\n",
    "        for j in list_kata:\n",
    "            if(max<=model[word][j]):\n",
    "                max = model[word][j]\n",
    "                key = j\n",
    "        #assign it as a new word, to be printed on the next loop\n",
    "        if (key==None):\n",
    "            break\n",
    "        word = key"
   ]
  },
  {
   "cell_type": "code",
   "execution_count": 750,
   "metadata": {},
   "outputs": [
    {
     "name": "stdout",
     "output_type": "stream",
     "text": [
      "mengairi\n",
      "kemurnian\n",
      "madu\n",
      "jika\n",
      "hidup\n",
      "kembali\n",
      "dan\n",
      "aku\n",
      "mau\n",
      "hidup\n",
      "kembali\n",
      "dan\n",
      "aku\n",
      "mau\n",
      "hidup\n",
      "kembali\n",
      "dan\n",
      "aku\n",
      "mau\n",
      "hidup\n"
     ]
    }
   ],
   "source": [
    "generatePoem(bigram)"
   ]
  },
  {
   "cell_type": "code",
   "execution_count": null,
   "metadata": {},
   "outputs": [],
   "source": []
  },
  {
   "cell_type": "code",
   "execution_count": null,
   "metadata": {},
   "outputs": [],
   "source": []
  },
  {
   "cell_type": "code",
   "execution_count": null,
   "metadata": {},
   "outputs": [],
   "source": []
  }
 ],
 "metadata": {
  "kernelspec": {
   "display_name": "Python 3",
   "language": "python",
   "name": "python3"
  },
  "language_info": {
   "codemirror_mode": {
    "name": "ipython",
    "version": 3
   },
   "file_extension": ".py",
   "mimetype": "text/x-python",
   "name": "python",
   "nbconvert_exporter": "python",
   "pygments_lexer": "ipython3",
   "version": "3.5.2"
  }
 },
 "nbformat": 4,
 "nbformat_minor": 2
}
