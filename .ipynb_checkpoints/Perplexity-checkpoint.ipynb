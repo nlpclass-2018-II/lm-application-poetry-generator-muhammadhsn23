{
 "cells": [
  {
   "cell_type": "code",
   "execution_count": 2,
   "metadata": {},
   "outputs": [
    {
     "name": "stdout",
     "output_type": "stream",
     "text": [
      "113.19601167345996\n"
     ]
    }
   ],
   "source": [
    "import nltk\n",
    "import random\n",
    "import collections\n",
    "from collections import Counter\n",
    "\n",
    "\n",
    "file = open('_poetry_khairil_anwar.txt')\n",
    "poem1 = file.read()\t\n",
    "\n",
    "file = open('_poetry_test.txt')\n",
    "test_text = file.read()\n",
    "\n",
    "def unigram(a):\n",
    "\t#beri 0.01 utk kata yg tidak ada di dictionary\n",
    "\tjum_kata= 0\n",
    "\tmodel = collections.defaultdict(lambda: 0.01)\n",
    "\tfor f in a:\n",
    "\t\t#klo udah ada di model tambah 1\n",
    "\t\tif(f in model):\n",
    "\t\t\tmodel[f] +=1\n",
    "\t\telse:\n",
    "\t\t#klo blm ada set 0.01\n",
    "\t\t\tmodel[f] =0.01\n",
    "\t\tjum_kata +=1\n",
    "\tfor word in model:\n",
    "\t\tmodel[word] =model[word]/jum_kata\n",
    "\t\t# print (model[word])s\n",
    "\treturn model\n",
    "\n",
    "def perplexity(test, model):\n",
    "\t#rumus akar pangkat minus jumlah kata di data test , dalem akarnya probability tiap unigram data test\n",
    "\ttest = nltk.word_tokenize(test)\n",
    "\tperplexity = 1\n",
    "\tn=0\n",
    "\tfor word in test:\n",
    "\t\tperplexity = perplexity*(1/model[word])\n",
    "\t\t# print perplexity\n",
    "\t\tn+=1\n",
    "\tperplexity = pow(perplexity, 1/float(n))\n",
    "\treturn perplexity\n",
    "\n",
    "\n",
    "tokens = nltk.word_tokenize(poem1)\n",
    "model = unigram(poem1)\n",
    "print (perplexity(test_text, model))\n"
   ]
  },
  {
   "cell_type": "code",
   "execution_count": null,
   "metadata": {},
   "outputs": [],
   "source": []
  }
 ],
 "metadata": {
  "kernelspec": {
   "display_name": "Python 3",
   "language": "python",
   "name": "python3"
  },
  "language_info": {
   "codemirror_mode": {
    "name": "ipython",
    "version": 3
   },
   "file_extension": ".py",
   "mimetype": "text/x-python",
   "name": "python",
   "nbconvert_exporter": "python",
   "pygments_lexer": "ipython3",
   "version": "3.5.2"
  }
 },
 "nbformat": 4,
 "nbformat_minor": 2
}
