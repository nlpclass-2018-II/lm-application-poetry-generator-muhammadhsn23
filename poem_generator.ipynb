{
 "cells": [
  {
   "cell_type": "code",
   "execution_count": 3,
   "metadata": {},
   "outputs": [
    {
     "name": "stdout",
     "output_type": "stream",
     "text": [
      "Cuma\n",
      "satu\n",
      "kuasa\n",
      "melepas\n",
      "renggut\n",
      "Segala\n",
      "menebal\n",
      ",\n",
      "keris\n",
      "di\n",
      "kiri\n",
      "Berselempang\n",
      "semangat\n",
      "yang\n",
      "kami\n"
     ]
    }
   ],
   "source": [
    "import nltk\n",
    "import random\n",
    "from collections import Counter\n",
    "\n",
    "\n",
    "file = open('_poetry_khairil_anwar.txt')\n",
    "poem = file.read()\t\n",
    "\n",
    "token = nltk.word_tokenize(poem)\n",
    "\n",
    "bigrams = nltk.bigrams(token)\n",
    "cfd = nltk.ConditionalFreqDist(bigrams)\n",
    "\n",
    "# pick a random word\n",
    "word = random.choice(token)\n",
    "\n",
    "\n",
    "#print at most 15 words\n",
    "for i in range(15):\n",
    "    print (word)\n",
    "    if word in cfd:\n",
    "        word = random.choice(list(cfd[word].keys()))\n",
    "    else:\n",
    "        break"
   ]
  },
  {
   "cell_type": "code",
   "execution_count": null,
   "metadata": {},
   "outputs": [],
   "source": []
  }
 ],
 "metadata": {
  "kernelspec": {
   "display_name": "Python 3",
   "language": "python",
   "name": "python3"
  },
  "language_info": {
   "codemirror_mode": {
    "name": "ipython",
    "version": 3
   },
   "file_extension": ".py",
   "mimetype": "text/x-python",
   "name": "python",
   "nbconvert_exporter": "python",
   "pygments_lexer": "ipython3",
   "version": "3.5.2"
  }
 },
 "nbformat": 4,
 "nbformat_minor": 2
}
